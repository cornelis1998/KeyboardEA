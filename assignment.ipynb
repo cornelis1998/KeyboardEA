{
 "cells": [
  {
   "cell_type": "markdown",
   "metadata": {},
   "source": [
    "# Optimizing Permutations\n",
    "When using Evolutionary Algorithms, one particularly important aspect of applying such an EA is the choice of **encoding**. In many cases the encoding used is trivial, for example a mapping from positions on a discrete string to the variables used within evaluation, or similarly for continuous variables. Such encodings are commonplace, and you have already (potentially unknowingly) encountered them.\n",
    "\n",
    "The right encoding can however provide significant benefits to the performance of an EA! Specific encodings can be used to avoid infeasible solutions by construction, bias the search space towards regions of interest, or allow for better & more effective recombination. In this assignment we utilize various encodings (and crossover operators) to investigate their applicability to a particularly common (yet constrained) search space: Permutations.\n",
    "\n",
    "Permutations are used to define sequences, orderings of preference, or unique one-to-one mappings. If you ever had a problem that takes such a input, we generally use a permutation to describe them. The trivial way to 'encode' permutations is a discrete search space, assigning a value 1 through the string length for each position. This approach does however not deal with the uniqueness constraint. The search space therefore also includes invalid solutions.\n",
    "\n",
    "In this assignment we instead investigate different approaches, each with their own benefits and downsides. One of these approaches is to require a solution to always be a valid permutation, requiring our operators to be modified to preserve this property. Alternatively, we use the Random Key encoding which uses a string of continuous variables as encoding, with the encoded permutation being the order that sorts them.\n",
    "\n",
    "> **Note!** Have you used poetry to set-up the virtualenv? There are a few dependencies that should be present\n",
    "> before running the code within this notebook. As of writing these are `numpy`, `matplotlib`, `pandas` and `tsplib95`.\n",
    "> Installing poetry will automate this, and provide you with dependencies & corresponding versions that have\n",
    "> been verified to work. Install poetry (for example) using `pip install poetry` or follow the instructions\n",
    "> at https://python-poetry.org/.\n",
    "> Running `poetry install` followed by `poetry shell` should provide you with a venv with all dependencies\n",
    "> present.\n",
    "\n",
    "## Problems"
   ]
  },
  {
   "cell_type": "markdown",
   "metadata": {},
   "source": [
    "### Travelling Salesperson (TSP)\n",
    "Imagine being a delivery driver. Given a set of places you want to deliver a package to, you would likely want to minimize the distance travelled in order to deliver these packages. Every package needs to be delivered once, and we need to return where we started. Given a distance matrix $D$, and an ordering of deliveries $s$ of length $\\ell$, the total distance travelled (to be minimized) is as follows:\n",
    "$$\n",
    "d(s) = D_{s_\\ell,s_1} + \\sum_{i = 1}^{\\ell - 1}{D_{s[i],s[i+1]}}\n",
    "$$\n",
    "\n",
    "For instances, take a look at [TSPLIB](http://comopt.ifi.uni-heidelberg.de/software/TSPLIB95/tsp/), optima (for reference) can be found [here](http://comopt.ifi.uni-heidelberg.de/software/TSPLIB95/STSP.html).\n",
    "\n",
    "Note that some instances are based on a distance measure with coordinates, allowing you to plot them, like the instance below:"
   ]
  },
  {
   "cell_type": "code",
   "execution_count": 3,
   "metadata": {},
   "outputs": [],
   "source": [
    "# Imports\n",
    "import numpy as np\n",
    "import matplotlib.pyplot as plt\n",
    "import pandas as pd\n",
    "# This library supports the various instances from TSPLIB (from coordinates to fully explicit matrices)\n",
    "from permutationsga.tsp import TSP\n",
    "import tsplib95 as tsp\n"
   ]
  },
  {
   "cell_type": "code",
   "execution_count": 4,
   "metadata": {},
   "outputs": [
    {
     "name": "stderr",
     "output_type": "stream",
     "text": [
      "  % Total    % Received % Xferd  Average Speed   Time    Time     Time  Current\n",
      "                                 Dload  Upload   Total   Spent    Left  Speed\n",
      "\n",
      "  0     0    0     0    0     0      0      0 --:--:-- --:--:-- --:--:--     0\n",
      "100   472  100   472    0     0   7122      0 --:--:-- --:--:-- --:--:--  7261\n"
     ]
    }
   ],
   "source": [
    "# Download an example instance and decompress it\n",
    "!curl -O http://comopt.ifi.uni-heidelberg.de/software/TSPLIB95/tsp/berlin52.tsp.gz\n",
    "!gzip -d berlin52.tsp.gz"
   ]
  },
  {
   "cell_type": "code",
   "execution_count": 5,
   "metadata": {},
   "outputs": [
    {
     "data": {
      "text/plain": [
       "<AxesSubplot:xlabel='0', ylabel='1'>"
      ]
     },
     "execution_count": 5,
     "metadata": {},
     "output_type": "execute_result"
    },
    {
     "data": {
      "image/png": "[encoded data removed]",
      "text/plain": [
       "<Figure size 432x288 with 2 Axes>"
      ]
     },
     "metadata": {
      "needs_background": "light"
     },
     "output_type": "display_data"
    }
   ],
   "source": [
    "# Load and plot the coordinates\n",
    "tsp_berlin52 = tsp.load(\"./berlin52.tsp\")\n",
    "coords_df = pd.DataFrame(tsp_berlin52.node_coords).transpose().reset_index()\n",
    "coords_df.plot(x=0, y=1, c=\"index\", kind='scatter')"
   ]
  },
  {
   "cell_type": "markdown",
   "metadata": {},
   "source": [
    "You may notice that the ordering of places by index may not be the best ordering for visiting them. Can you find a better one?"
   ]
  },
  {
   "cell_type": "code",
   "execution_count": 6,
   "metadata": {},
   "outputs": [
    {
     "name": "stderr",
     "output_type": "stream",
     "text": [
      "A subdirectory or file instances already exists.\n",
      "A subdirectory or file instances/tsp already exists.\n",
      "  % Total    % Received % Xferd  Average Speed   Time    Time     Time  Current\n",
      "                                 Dload  Upload   Total   Spent    Left  Speed\n",
      "\n",
      "  0     0    0     0    0     0      0      0 --:--:-- --:--:-- --:--:--     0\n",
      "  2 1977k    2 50232    0     0   294k      0  0:00:06 --:--:--  0:00:06  293k\n",
      "100 1977k  100 1977k    0     0  1560k      0  0:00:01  0:00:01 --:--:-- 1560k\n",
      "100 1977k  100 1977k    0     0  1560k      0  0:00:01  0:00:01 --:--:-- 1560k\n"
     ]
    }
   ],
   "source": [
    "# Download and unpack all of the TSP instances (and gitignore for good measure)\n",
    "!mkdir instances\n",
    "!echo * > instances/.gitignore\n",
    "!mkdir \"instances/tsp\"\n",
    "!curl http://comopt.ifi.uni-heidelberg.de/software/TSPLIB95/tsp/ALL_tsp.tar.gz -o instances/tsp/tsplib_instances.tar.gz\n",
    "!cd instances/tsp && echo \"*\" > .gitignore && tar -xzf tsplib_instances.tar.gz"
   ]
  },
  {
   "cell_type": "markdown",
   "metadata": {},
   "source": [
    "### Quadratic Assignment Problem (QAP)\n",
    "A different kind of problem, which can also be represented by a permutation is the Quadratic Assignment Problem (QAP). Rather than an ordering the permutation in the QAP, as the name implies, is a one-to-one assignment. Specifically, given two matrices $A$ and $B$, find an assignment $s$ of length $\\ell$ such that the cost (to be minimized) is as follows:\n",
    "\n",
    "$$\n",
    "c(s) = \\sum_{i = 1}^\\ell \\sum_{j = 1}^\\ell A_{i,j} B_{s[i], s[j]}\n",
    "$$\n",
    "\n",
    "An example from literature (and included in [QAPLIB](http://www.mgi.polymtl.ca/anjos/qaplib/inst.html), the dataset you will be using) is the layout of a keyboard [^1]: you only have as many keys as letters, and need to assign each letter to a key (or: each key to a letter).\n",
    "\n",
    "[^1]: R.E. BURKARD and J. OFFERMANN. Entwurf von Schreibmaschinentastaturen mittels quadratischer Zuordnungsprobleme. Zeitschrift für Operations Research, 21:B121-B132, 1977. "
   ]
  },
  {
   "cell_type": "code",
   "execution_count": 13,
   "metadata": {},
   "outputs": [
    {
     "name": "stderr",
     "output_type": "stream",
     "text": [
      "A subdirectory or file instances already exists.\n",
      "A subdirectory or file qap already exists.\n"
     ]
    }
   ],
   "source": [
    "# Download QAP data & solutions\n",
    "!mkdir instances\n",
    "!echo * > instances/.gitignore\n",
    "!cd instances && mkdir qap\n",
    "# !curl http://www.mgi.polymtl.ca/anjos/qaplib/data.d/qapdata.tar.gz -o instances/qap/qaplib_instances.tar.gz\n",
    "# !curl http://www.mgi.polymtl.ca/anjos/qaplib/soln.d/qapsoln.tar.gz -o instances/qap/qaplib_solutions.tar.gz\n",
    "!cd instances/qap && echo \"*\" > .gitignore && tar -xzf qaplib_instances.tar.gz && tar -xzf qaplib_solutions.tar.gz"
   ]
  },
  {
   "cell_type": "markdown",
   "metadata": {},
   "source": [
    "## Evolutionary Algorithms\n",
    "With the problems introduced, it is time to design approaches to solve them. As stated in the introduction, we do not want our approach to spend a considerable amount of resources trying to satisfy the uniqueness constraint. A significant amount of code has already been written for you. Here are some reference materials, operators or modifiers which are implemented are marked with *(Impl.)*:\n",
    "\n",
    "- Direct (enforced) encoding: Initialize as a permutation, and preserve this property throughout by using specialized crossovers.\n",
    "  - **Order Crossover (OX)** (Impl.) -- Davis, Lawrence. \"Applying adaptive algorithms to epistatic domains.\" In IJCAI, vol. 85, pp. 162-164. 1985.\n",
    "  - **Partially Mapped Crossover (PMX)** (Impl.) -- Goldberg, David E., and Robert Lingle. \"Alleles, loci, and the traveling salesman problem.\" In Proceedings of an international conference on genetic algorithms and their applications, vol. 154, pp. 154-159. Hillsdale, NJ: Lawrence Erlbaum, 1985.\n",
    "  - **Cycle Crossover (CX)** (Impl.) -- Oliver, I. M., DJd Smith, and John RC Holland. \"Study of permutation crossover operators on the traveling salesman problem.\" In Genetic algorithms and their applications: proceedings of the second International Conference on Genetic Algorithms: July 28-31, 1987 at the Massachusetts Institute of Technology, Cambridge, MA. Hillsdale, NJ: L. Erlhaum Associates, 1987., 1987.\n",
    "  - **Uniform Ordering Crossover (UOX)** -- Kargupta, Hillol, Kalyanmoy Deb, and David E. Goldberg. \"Ordering Genetic Algorithms and Deception.\" In PPSN, pp. 49-58. 1992.\n",
    "- Alternative encoding\n",
    "  - **Random Keys** (Impl.) -- Bean, James C. 1994. ‘Genetic Algorithms and Random Keys for Sequencing and Optimization’. ORSA Journal on Computing 6 (2): 154–60. https://doi.org/10.1287/ijoc.6.2.154.\n",
    "  - **n-Ball Random Keys** & **Reduced Random Keys** -- Krömer, Pavel, Vojtěch Uher, and Václav Snášel. 2022. ‘Novel Random Key Encoding Schemes for the Differential Evolution of Permutation Problems’. IEEE Transactions on Evolutionary Computation 26 (1): 43–57. https://doi.org/10.1109/TEVC.2021.3087802.\n",
    "- **+ Inverse** (Impl.) - Note that permutations are a bit special, you can list the cities in the order that you are visiting them, but alternatively, you can encode a solution as an assignment of when each city will be visited, too! This actually leads to a different encoding, with different structural dependencies, and can be combined with any of the aforementioned methods.\n",
    "  - e.g. Baioletti, Marco, Alfredo Milani, and Valentino Santucci. \"Variable neighborhood algebraic differential evolution: An application to the linear ordering problem with cumulative costs.\" Information Sciences 507 (2020): 37-52.\n",
    "\n",
    "General Resources\n",
    "- Davis, Lawrence. \"Handbook of genetic algorithms.\" (1991). -- Contains a listing of some less commonly used crossovers for permutations as well!"
   ]
  },
  {
   "cell_type": "markdown",
   "metadata": {},
   "source": [
    "## Examples!"
   ]
  },
  {
   "cell_type": "code",
   "execution_count": 10,
   "metadata": {},
   "outputs": [],
   "source": [
    "# Imports\n",
    "import gzip  # as some instance files may have been compressed\n",
    "\n",
    "# Re-import dependencies (in case earlier import was skipped)\n",
    "import numpy as np\n",
    "import matplotlib.pyplot as plt\n",
    "import pandas as pd\n",
    "\n",
    "# This library supports the various instances from TSPLIB (from coordinates to fully explicit matrices)\n",
    "import tsplib95 as tsp\n",
    "\n",
    "from permutationsga.ga import (\n",
    "    ConfigurableGA,\n",
    "    RandomPermutationInitialization,\n",
    "    crossover_ox,\n",
    "    crossover_cx,\n",
    "    crossover_pmx,\n",
    "    TournamentSelection,\n",
    "    FunctionBasedRecombinator,\n",
    "    SequentialSelector,\n",
    "    generate_uniform_indices,\n",
    "    generate_sequential_indices,\n",
    "    generate_sequential_wrapping_indices,\n",
    "    RandomUniformInitialization,\n",
    "    DifferentialEvolutionRecombinator,\n",
    ")\n",
    "from permutationsga.problem import (\n",
    "    IdenticalDecoder,\n",
    "    InvPermDecoder,\n",
    "    RandomKeysDecoder,\n",
    "    ElitistTracker,\n",
    ")\n",
    "\n",
    "from permutationsga.tsp import TSP\n",
    "from permutationsga.qap import QAP, read_qaplib\n"
   ]
  },
  {
   "cell_type": "code",
   "execution_count": 11,
   "metadata": {},
   "outputs": [
    {
     "ename": "FileNotFoundError",
     "evalue": "[Errno 2] No such file or directory: './instances/qap/bur26a.dat'",
     "output_type": "error",
     "traceback": [
      "\u001b[1;31m---------------------------------------------------------------------------\u001b[0m",
      "\u001b[1;31mFileNotFoundError\u001b[0m                         Traceback (most recent call last)",
      "Input \u001b[1;32mIn [11]\u001b[0m, in \u001b[0;36m<cell line: 4>\u001b[1;34m()\u001b[0m\n\u001b[0;32m      1\u001b[0m \u001b[38;5;66;03m# TSP\u001b[39;00m\n\u001b[0;32m      2\u001b[0m \u001b[38;5;66;03m# problem_base = TSP(tsp.parse(gzip.open(\"./instances/tsp/berlin52.tsp.gz\").read().decode('utf8')))\u001b[39;00m\n\u001b[0;32m      3\u001b[0m \u001b[38;5;66;03m# QAP\u001b[39;00m\n\u001b[1;32m----> 4\u001b[0m problem_base \u001b[38;5;241m=\u001b[39m QAP(\u001b[38;5;241m*\u001b[39m\u001b[43mread_qaplib\u001b[49m\u001b[43m(\u001b[49m\u001b[38;5;124;43m\"\u001b[39;49m\u001b[38;5;124;43m./instances/qap/bur26a.dat\u001b[39;49m\u001b[38;5;124;43m\"\u001b[39;49m\u001b[43m)\u001b[49m)\n\u001b[0;32m      6\u001b[0m problem \u001b[38;5;241m=\u001b[39m problem_base\n",
      "File \u001b[1;32m~\\OneDrive - Delft University of Technology\\MSc Robotics\\Q4\\Evolutionary Algorithms\\Keyboard\\permutationsga\\qap.py:40\u001b[0m, in \u001b[0;36mread_qaplib\u001b[1;34m(filename)\u001b[0m\n\u001b[0;32m     39\u001b[0m \u001b[38;5;28;01mdef\u001b[39;00m \u001b[38;5;21mread_qaplib\u001b[39m(filename):\n\u001b[1;32m---> 40\u001b[0m     \u001b[38;5;28;01mwith\u001b[39;00m \u001b[38;5;28;43mopen\u001b[39;49m\u001b[43m(\u001b[49m\u001b[43mfilename\u001b[49m\u001b[43m,\u001b[49m\u001b[43m \u001b[49m\u001b[38;5;124;43m\"\u001b[39;49m\u001b[38;5;124;43mr\u001b[39;49m\u001b[38;5;124;43m\"\u001b[39;49m\u001b[43m)\u001b[49m \u001b[38;5;28;01mas\u001b[39;00m f:\n\u001b[0;32m     41\u001b[0m         \u001b[38;5;66;03m# Read first line: dimensionality\u001b[39;00m\n\u001b[0;32m     42\u001b[0m         l \u001b[38;5;241m=\u001b[39m \u001b[38;5;28mint\u001b[39m(f\u001b[38;5;241m.\u001b[39mreadline())\n\u001b[0;32m     43\u001b[0m         \u001b[38;5;66;03m# Skip empty line\u001b[39;00m\n",
      "\u001b[1;31mFileNotFoundError\u001b[0m: [Errno 2] No such file or directory: './instances/qap/bur26a.dat'"
     ]
    }
   ],
   "source": [
    "# TSP\n",
    "# problem_base = TSP(tsp.parse(gzip.open(\"./instances/tsp/berlin52.tsp.gz\").read().decode('utf8')))\n",
    "# QAP\n",
    "problem_base = QAP(*read_qaplib(\"./instances/qap/bur26a.dat\"))\n",
    "\n",
    "problem = problem_base"
   ]
  },
  {
   "cell_type": "code",
   "execution_count": 4,
   "metadata": {},
   "outputs": [],
   "source": [
    "# Add the decoder - permutation encoding\n",
    "problem_decoder = IdenticalDecoder(problem)   # Identity, if using the permutation directly\n",
    "# problem_decoder = InvPermDecoder(problem)     # Inverse, if you want to reverse the direction in which the mapping occurs\n",
    "\n",
    "problem = problem_decoder"
   ]
  },
  {
   "cell_type": "code",
   "execution_count": 5,
   "metadata": {},
   "outputs": [],
   "source": [
    "# Add the tracker\n",
    "value_to_reach = None\n",
    "problem_tracker = ElitistTracker(problem, value_to_reach)\n",
    "problem = problem_tracker"
   ]
  },
  {
   "cell_type": "code",
   "execution_count": 6,
   "metadata": {},
   "outputs": [],
   "source": [
    "# GA - Permutation\n",
    "seed = 42\n",
    "population_size = 2**10\n",
    "rng = np.random.default_rng(seed=seed + 1)\n",
    "l = problem.get_length()\n",
    "\n",
    "\n",
    "# crossover_fn = crossover_pmx; indices_gen = lambda: generate_sequential_indices(rng, l)\n",
    "# crossover_fn = crossover_pmx; indices_gen = lambda: generate_uniform_indices(rng, l, 0.5)\n",
    "# crossover_fn = crossover_ox; indices_gen = lambda: generate_sequential_indices(rng, l)\n",
    "# crossover_fn = crossover_cx; indices_gen = lambda: rng.integers(0, l - 1, size=1)\n",
    "crossover_fn = crossover_cx; indices_gen = lambda: generate_uniform_indices(rng, l, 0.05)\n",
    "\n",
    "initialization = RandomPermutationInitialization(l)\n",
    "parent_selection = SequentialSelector()\n",
    "recombinator = FunctionBasedRecombinator(\n",
    "    indices_gen,\n",
    "    crossover_fn,\n",
    "    parent_selection,\n",
    "    population_size * 2, # Note: double as we are including the previous population\n",
    "    include_what=\"population\"\n",
    ")\n",
    "selection = TournamentSelection()\n",
    "ga = ConfigurableGA(\n",
    "    seed, population_size, problem, initialization, recombinator, selection\n",
    ")\n"
   ]
  },
  {
   "cell_type": "code",
   "execution_count": 25,
   "metadata": {},
   "outputs": [
    {
     "ename": "Exception",
     "evalue": "Do not run all the cells, run either the ones above or below!",
     "output_type": "error",
     "traceback": [
      "\u001b[0;31m---------------------------------------------------------------------------\u001b[0m",
      "\u001b[0;31mException\u001b[0m                                 Traceback (most recent call last)",
      "\u001b[1;32m/home/arthur/Projects/EA-Course-Permutations/assignment.ipynb Cell 16'\u001b[0m in \u001b[0;36m<cell line: 1>\u001b[0;34m()\u001b[0m\n\u001b[0;32m----> <a href='vscode-notebook-cell://wsl%2Bubuntu-20.04/home/arthur/Projects/EA-Course-Permutations/assignment.ipynb#ch0000026vscode-remote?line=0'>1</a>\u001b[0m \u001b[39mraise\u001b[39;00m \u001b[39mException\u001b[39;00m(\u001b[39m\"\u001b[39m\u001b[39mDo not run all the cells, run either the ones above or below!\u001b[39m\u001b[39m\"\u001b[39m)\n",
      "\u001b[0;31mException\u001b[0m: Do not run all the cells, run either the ones above or below!"
     ]
    }
   ],
   "source": [
    "raise Exception(\"Do not run all the cells, run either the ones above or below!\")"
   ]
  },
  {
   "cell_type": "code",
   "execution_count": 19,
   "metadata": {},
   "outputs": [],
   "source": [
    "# Add the decoder - Random Keys\n",
    "problem = RandomKeysDecoder(problem)    # When using random keys as encoding."
   ]
  },
  {
   "cell_type": "code",
   "execution_count": 31,
   "metadata": {},
   "outputs": [],
   "source": [
    "# GA - Random Keys\n",
    "seed = 42\n",
    "population_size = 2**10\n",
    "rng = np.random.default_rng(seed=seed + 1)\n",
    "l = problem.get_length()\n",
    "cr = 0.5\n",
    "f = 0.8\n",
    "\n",
    "initialization = RandomUniformInitialization(l)\n",
    "recombinator = DifferentialEvolutionRecombinator(0.5, 0.8)\n",
    "selection = TournamentSelection(2, 1, shuffle=False) # - as recommended with DE, performs a tournament against its parent.\n",
    "ga = ConfigurableGA(\n",
    "    seed, population_size, problem, initialization, recombinator, selection\n",
    ")\n"
   ]
  },
  {
   "cell_type": "markdown",
   "metadata": {},
   "source": [
    "Initialize:"
   ]
  },
  {
   "cell_type": "code",
   "execution_count": 7,
   "metadata": {},
   "outputs": [],
   "source": [
    "ga.generation()\n"
   ]
  },
  {
   "cell_type": "code",
   "execution_count": 8,
   "metadata": {},
   "outputs": [
    {
     "data": {
      "text/plain": [
       "(5645698.0, 6408124.0)"
      ]
     },
     "execution_count": 8,
     "metadata": {},
     "output_type": "execute_result"
    }
   ],
   "source": [
    "# Current best & worst\n",
    "min(s.f for s in ga.population), max(s.f for s in ga.population)"
   ]
  },
  {
   "cell_type": "code",
   "execution_count": 9,
   "metadata": {},
   "outputs": [
    {
     "data": {
      "text/plain": [
       "(array([ 14., 103., 189., 252., 222., 117.,  75.,  32.,  13.,   7.]),\n",
       " array([5645698. , 5721940.6, 5798183.2, 5874425.8, 5950668.4, 6026911. ,\n",
       "        6103153.6, 6179396.2, 6255638.8, 6331881.4, 6408124. ]),\n",
       " <BarContainer object of 10 artists>)"
      ]
     },
     "execution_count": 9,
     "metadata": {},
     "output_type": "execute_result"
    },
    {
     "data": {
      "image/png": "[encoded data removed]",
      "text/plain": [
       "<Figure size 432x288 with 1 Axes>"
      ]
     },
     "metadata": {
      "needs_background": "light"
     },
     "output_type": "display_data"
    }
   ],
   "source": [
    "# Histogram\n",
    "plt.hist([s.f for s in ga.population])"
   ]
  },
  {
   "cell_type": "code",
   "execution_count": 10,
   "metadata": {},
   "outputs": [
    {
     "data": {
      "text/html": [
       "<div>\n",
       "<style scoped>\n",
       "    .dataframe tbody tr th:only-of-type {\n",
       "        vertical-align: middle;\n",
       "    }\n",
       "\n",
       "    .dataframe tbody tr th {\n",
       "        vertical-align: top;\n",
       "    }\n",
       "\n",
       "    .dataframe thead th {\n",
       "        text-align: right;\n",
       "    }\n",
       "</style>\n",
       "<table border=\"1\" class=\"dataframe\">\n",
       "  <thead>\n",
       "    <tr style=\"text-align: right;\">\n",
       "      <th></th>\n",
       "      <th>#evaluations</th>\n",
       "      <th>time (s)</th>\n",
       "      <th>genotype</th>\n",
       "      <th>phenotype</th>\n",
       "      <th>fitness</th>\n",
       "      <th>is_vtr</th>\n",
       "    </tr>\n",
       "  </thead>\n",
       "  <tbody>\n",
       "    <tr>\n",
       "      <th>0</th>\n",
       "      <td>1</td>\n",
       "      <td>0.000000</td>\n",
       "      <td>[7, 15, 21, 20, 17, 5, 18, 25, 10, 9, 6, 16, 3...</td>\n",
       "      <td>[7, 15, 21, 20, 17, 5, 18, 25, 10, 9, 6, 16, 3...</td>\n",
       "      <td>6022805.0</td>\n",
       "      <td>False</td>\n",
       "    </tr>\n",
       "    <tr>\n",
       "      <th>0</th>\n",
       "      <td>2</td>\n",
       "      <td>0.002113</td>\n",
       "      <td>[8, 10, 6, 17, 25, 11, 5, 1, 18, 23, 4, 21, 0,...</td>\n",
       "      <td>[8, 10, 6, 17, 25, 11, 5, 1, 18, 23, 4, 21, 0,...</td>\n",
       "      <td>5841038.0</td>\n",
       "      <td>False</td>\n",
       "    </tr>\n",
       "    <tr>\n",
       "      <th>0</th>\n",
       "      <td>8</td>\n",
       "      <td>0.006105</td>\n",
       "      <td>[19, 25, 18, 6, 5, 14, 4, 3, 7, 1, 17, 8, 0, 1...</td>\n",
       "      <td>[19, 25, 18, 6, 5, 14, 4, 3, 7, 1, 17, 8, 0, 1...</td>\n",
       "      <td>5777598.0</td>\n",
       "      <td>False</td>\n",
       "    </tr>\n",
       "    <tr>\n",
       "      <th>0</th>\n",
       "      <td>53</td>\n",
       "      <td>0.029109</td>\n",
       "      <td>[6, 3, 24, 23, 5, 10, 9, 4, 15, 14, 20, 12, 0,...</td>\n",
       "      <td>[6, 3, 24, 23, 5, 10, 9, 4, 15, 14, 20, 12, 0,...</td>\n",
       "      <td>5718685.0</td>\n",
       "      <td>False</td>\n",
       "    </tr>\n",
       "    <tr>\n",
       "      <th>0</th>\n",
       "      <td>54</td>\n",
       "      <td>0.031125</td>\n",
       "      <td>[7, 19, 21, 20, 0, 25, 1, 9, 16, 3, 23, 18, 13...</td>\n",
       "      <td>[7, 19, 21, 20, 0, 25, 1, 9, 16, 3, 23, 18, 13...</td>\n",
       "      <td>5713392.0</td>\n",
       "      <td>False</td>\n",
       "    </tr>\n",
       "    <tr>\n",
       "      <th>0</th>\n",
       "      <td>64</td>\n",
       "      <td>0.036136</td>\n",
       "      <td>[17, 9, 16, 19, 18, 0, 14, 8, 21, 15, 20, 6, 7...</td>\n",
       "      <td>[17, 9, 16, 19, 18, 0, 14, 8, 21, 15, 20, 6, 7...</td>\n",
       "      <td>5703806.0</td>\n",
       "      <td>False</td>\n",
       "    </tr>\n",
       "    <tr>\n",
       "      <th>0</th>\n",
       "      <td>280</td>\n",
       "      <td>0.130105</td>\n",
       "      <td>[18, 16, 25, 7, 9, 0, 13, 15, 1, 2, 14, 12, 4,...</td>\n",
       "      <td>[18, 16, 25, 7, 9, 0, 13, 15, 1, 2, 14, 12, 4,...</td>\n",
       "      <td>5670833.0</td>\n",
       "      <td>False</td>\n",
       "    </tr>\n",
       "    <tr>\n",
       "      <th>0</th>\n",
       "      <td>310</td>\n",
       "      <td>0.143105</td>\n",
       "      <td>[19, 9, 6, 3, 2, 23, 11, 22, 14, 8, 20, 0, 12,...</td>\n",
       "      <td>[19, 9, 6, 3, 2, 23, 11, 22, 14, 8, 20, 0, 12,...</td>\n",
       "      <td>5645698.0</td>\n",
       "      <td>False</td>\n",
       "    </tr>\n",
       "  </tbody>\n",
       "</table>\n",
       "</div>"
      ],
      "text/plain": [
       "   #evaluations  time (s)                                           genotype  \\\n",
       "0             1  0.000000  [7, 15, 21, 20, 17, 5, 18, 25, 10, 9, 6, 16, 3...   \n",
       "0             2  0.002113  [8, 10, 6, 17, 25, 11, 5, 1, 18, 23, 4, 21, 0,...   \n",
       "0             8  0.006105  [19, 25, 18, 6, 5, 14, 4, 3, 7, 1, 17, 8, 0, 1...   \n",
       "0            53  0.029109  [6, 3, 24, 23, 5, 10, 9, 4, 15, 14, 20, 12, 0,...   \n",
       "0            54  0.031125  [7, 19, 21, 20, 0, 25, 1, 9, 16, 3, 23, 18, 13...   \n",
       "0            64  0.036136  [17, 9, 16, 19, 18, 0, 14, 8, 21, 15, 20, 6, 7...   \n",
       "0           280  0.130105  [18, 16, 25, 7, 9, 0, 13, 15, 1, 2, 14, 12, 4,...   \n",
       "0           310  0.143105  [19, 9, 6, 3, 2, 23, 11, 22, 14, 8, 20, 0, 12,...   \n",
       "\n",
       "                                           phenotype    fitness  is_vtr  \n",
       "0  [7, 15, 21, 20, 17, 5, 18, 25, 10, 9, 6, 16, 3...  6022805.0   False  \n",
       "0  [8, 10, 6, 17, 25, 11, 5, 1, 18, 23, 4, 21, 0,...  5841038.0   False  \n",
       "0  [19, 25, 18, 6, 5, 14, 4, 3, 7, 1, 17, 8, 0, 1...  5777598.0   False  \n",
       "0  [6, 3, 24, 23, 5, 10, 9, 4, 15, 14, 20, 12, 0,...  5718685.0   False  \n",
       "0  [7, 19, 21, 20, 0, 25, 1, 9, 16, 3, 23, 18, 13...  5713392.0   False  \n",
       "0  [17, 9, 16, 19, 18, 0, 14, 8, 21, 15, 20, 6, 7...  5703806.0   False  \n",
       "0  [18, 16, 25, 7, 9, 0, 13, 15, 1, 2, 14, 12, 4,...  5670833.0   False  \n",
       "0  [19, 9, 6, 3, 2, 23, 11, 22, 14, 8, 20, 0, 12,...  5645698.0   False  "
      ]
     },
     "execution_count": 10,
     "metadata": {},
     "output_type": "execute_result"
    }
   ],
   "source": [
    "# Changes in best solution found so far:\n",
    "problem_tracker.elitist_history"
   ]
  },
  {
   "cell_type": "markdown",
   "metadata": {},
   "source": [
    "Recombine & Select (repeat a few times to see how things evolve!):"
   ]
  },
  {
   "cell_type": "code",
   "execution_count": 11,
   "metadata": {},
   "outputs": [],
   "source": [
    "ga.generation()\n",
    "ga.generation()\n",
    "ga.generation()\n",
    "ga.generation()\n",
    "ga.generation()\n"
   ]
  },
  {
   "cell_type": "code",
   "execution_count": 36,
   "metadata": {},
   "outputs": [
    {
     "data": {
      "text/plain": [
       "(5478423.0, 5501441.0)"
      ]
     },
     "execution_count": 36,
     "metadata": {},
     "output_type": "execute_result"
    }
   ],
   "source": [
    "# Current best & worst\n",
    "min(s.f for s in ga.population), max(s.f for s in ga.population)"
   ]
  },
  {
   "cell_type": "code",
   "execution_count": 12,
   "metadata": {},
   "outputs": [
    {
     "data": {
      "text/plain": [
       "(array([  8.,  22.,   8., 177., 245., 209., 227., 101.,  23.,   4.]),\n",
       " array([5516136. , 5536037.9, 5555939.8, 5575841.7, 5595743.6, 5615645.5,\n",
       "        5635547.4, 5655449.3, 5675351.2, 5695253.1, 5715155. ]),\n",
       " <BarContainer object of 10 artists>)"
      ]
     },
     "execution_count": 12,
     "metadata": {},
     "output_type": "execute_result"
    },
    {
     "data": {
      "image/png": "[encoded data removed]",
      "text/plain": [
       "<Figure size 432x288 with 1 Axes>"
      ]
     },
     "metadata": {
      "needs_background": "light"
     },
     "output_type": "display_data"
    }
   ],
   "source": [
    "# Histogram\n",
    "plt.hist([s.f for s in ga.population])"
   ]
  },
  {
   "cell_type": "code",
   "execution_count": 13,
   "metadata": {},
   "outputs": [
    {
     "data": {
      "text/html": [
       "<div>\n",
       "<style scoped>\n",
       "    .dataframe tbody tr th:only-of-type {\n",
       "        vertical-align: middle;\n",
       "    }\n",
       "\n",
       "    .dataframe tbody tr th {\n",
       "        vertical-align: top;\n",
       "    }\n",
       "\n",
       "    .dataframe thead th {\n",
       "        text-align: right;\n",
       "    }\n",
       "</style>\n",
       "<table border=\"1\" class=\"dataframe\">\n",
       "  <thead>\n",
       "    <tr style=\"text-align: right;\">\n",
       "      <th></th>\n",
       "      <th>#evaluations</th>\n",
       "      <th>time (s)</th>\n",
       "      <th>genotype</th>\n",
       "      <th>phenotype</th>\n",
       "      <th>fitness</th>\n",
       "      <th>is_vtr</th>\n",
       "    </tr>\n",
       "  </thead>\n",
       "  <tbody>\n",
       "    <tr>\n",
       "      <th>0</th>\n",
       "      <td>1</td>\n",
       "      <td>0.000000</td>\n",
       "      <td>[7, 15, 21, 20, 17, 5, 18, 25, 10, 9, 6, 16, 3...</td>\n",
       "      <td>[7, 15, 21, 20, 17, 5, 18, 25, 10, 9, 6, 16, 3...</td>\n",
       "      <td>6022805.0</td>\n",
       "      <td>False</td>\n",
       "    </tr>\n",
       "    <tr>\n",
       "      <th>0</th>\n",
       "      <td>2</td>\n",
       "      <td>0.002113</td>\n",
       "      <td>[8, 10, 6, 17, 25, 11, 5, 1, 18, 23, 4, 21, 0,...</td>\n",
       "      <td>[8, 10, 6, 17, 25, 11, 5, 1, 18, 23, 4, 21, 0,...</td>\n",
       "      <td>5841038.0</td>\n",
       "      <td>False</td>\n",
       "    </tr>\n",
       "    <tr>\n",
       "      <th>0</th>\n",
       "      <td>8</td>\n",
       "      <td>0.006105</td>\n",
       "      <td>[19, 25, 18, 6, 5, 14, 4, 3, 7, 1, 17, 8, 0, 1...</td>\n",
       "      <td>[19, 25, 18, 6, 5, 14, 4, 3, 7, 1, 17, 8, 0, 1...</td>\n",
       "      <td>5777598.0</td>\n",
       "      <td>False</td>\n",
       "    </tr>\n",
       "    <tr>\n",
       "      <th>0</th>\n",
       "      <td>53</td>\n",
       "      <td>0.029109</td>\n",
       "      <td>[6, 3, 24, 23, 5, 10, 9, 4, 15, 14, 20, 12, 0,...</td>\n",
       "      <td>[6, 3, 24, 23, 5, 10, 9, 4, 15, 14, 20, 12, 0,...</td>\n",
       "      <td>5718685.0</td>\n",
       "      <td>False</td>\n",
       "    </tr>\n",
       "    <tr>\n",
       "      <th>0</th>\n",
       "      <td>54</td>\n",
       "      <td>0.031125</td>\n",
       "      <td>[7, 19, 21, 20, 0, 25, 1, 9, 16, 3, 23, 18, 13...</td>\n",
       "      <td>[7, 19, 21, 20, 0, 25, 1, 9, 16, 3, 23, 18, 13...</td>\n",
       "      <td>5713392.0</td>\n",
       "      <td>False</td>\n",
       "    </tr>\n",
       "    <tr>\n",
       "      <th>0</th>\n",
       "      <td>64</td>\n",
       "      <td>0.036136</td>\n",
       "      <td>[17, 9, 16, 19, 18, 0, 14, 8, 21, 15, 20, 6, 7...</td>\n",
       "      <td>[17, 9, 16, 19, 18, 0, 14, 8, 21, 15, 20, 6, 7...</td>\n",
       "      <td>5703806.0</td>\n",
       "      <td>False</td>\n",
       "    </tr>\n",
       "    <tr>\n",
       "      <th>0</th>\n",
       "      <td>280</td>\n",
       "      <td>0.130105</td>\n",
       "      <td>[18, 16, 25, 7, 9, 0, 13, 15, 1, 2, 14, 12, 4,...</td>\n",
       "      <td>[18, 16, 25, 7, 9, 0, 13, 15, 1, 2, 14, 12, 4,...</td>\n",
       "      <td>5670833.0</td>\n",
       "      <td>False</td>\n",
       "    </tr>\n",
       "    <tr>\n",
       "      <th>0</th>\n",
       "      <td>310</td>\n",
       "      <td>0.143105</td>\n",
       "      <td>[19, 9, 6, 3, 2, 23, 11, 22, 14, 8, 20, 0, 12,...</td>\n",
       "      <td>[19, 9, 6, 3, 2, 23, 11, 22, 14, 8, 20, 0, 12,...</td>\n",
       "      <td>5645698.0</td>\n",
       "      <td>False</td>\n",
       "    </tr>\n",
       "    <tr>\n",
       "      <th>0</th>\n",
       "      <td>2067</td>\n",
       "      <td>94.353069</td>\n",
       "      <td>[15, 16, 25, 2, 7, 14, 1, 21, 0, 3, 13, 17, 4,...</td>\n",
       "      <td>[15, 16, 25, 2, 7, 14, 1, 21, 0, 3, 13, 17, 4,...</td>\n",
       "      <td>5609391.0</td>\n",
       "      <td>False</td>\n",
       "    </tr>\n",
       "    <tr>\n",
       "      <th>0</th>\n",
       "      <td>2625</td>\n",
       "      <td>94.587669</td>\n",
       "      <td>[6, 22, 20, 23, 15, 1, 0, 18, 2, 16, 11, 4, 8,...</td>\n",
       "      <td>[6, 22, 20, 23, 15, 1, 0, 18, 2, 16, 11, 4, 8,...</td>\n",
       "      <td>5594138.0</td>\n",
       "      <td>False</td>\n",
       "    </tr>\n",
       "    <tr>\n",
       "      <th>0</th>\n",
       "      <td>3376</td>\n",
       "      <td>94.977411</td>\n",
       "      <td>[6, 2, 0, 14, 3, 10, 1, 18, 15, 5, 11, 19, 4, ...</td>\n",
       "      <td>[6, 2, 0, 14, 3, 10, 1, 18, 15, 5, 11, 19, 4, ...</td>\n",
       "      <td>5547376.0</td>\n",
       "      <td>False</td>\n",
       "    </tr>\n",
       "    <tr>\n",
       "      <th>0</th>\n",
       "      <td>4312</td>\n",
       "      <td>95.472222</td>\n",
       "      <td>[0, 6, 15, 3, 22, 11, 10, 18, 21, 20, 8, 19, 4...</td>\n",
       "      <td>[0, 6, 15, 3, 22, 11, 10, 18, 21, 20, 8, 19, 4...</td>\n",
       "      <td>5516136.0</td>\n",
       "      <td>False</td>\n",
       "    </tr>\n",
       "  </tbody>\n",
       "</table>\n",
       "</div>"
      ],
      "text/plain": [
       "   #evaluations   time (s)                                           genotype  \\\n",
       "0             1   0.000000  [7, 15, 21, 20, 17, 5, 18, 25, 10, 9, 6, 16, 3...   \n",
       "0             2   0.002113  [8, 10, 6, 17, 25, 11, 5, 1, 18, 23, 4, 21, 0,...   \n",
       "0             8   0.006105  [19, 25, 18, 6, 5, 14, 4, 3, 7, 1, 17, 8, 0, 1...   \n",
       "0            53   0.029109  [6, 3, 24, 23, 5, 10, 9, 4, 15, 14, 20, 12, 0,...   \n",
       "0            54   0.031125  [7, 19, 21, 20, 0, 25, 1, 9, 16, 3, 23, 18, 13...   \n",
       "0            64   0.036136  [17, 9, 16, 19, 18, 0, 14, 8, 21, 15, 20, 6, 7...   \n",
       "0           280   0.130105  [18, 16, 25, 7, 9, 0, 13, 15, 1, 2, 14, 12, 4,...   \n",
       "0           310   0.143105  [19, 9, 6, 3, 2, 23, 11, 22, 14, 8, 20, 0, 12,...   \n",
       "0          2067  94.353069  [15, 16, 25, 2, 7, 14, 1, 21, 0, 3, 13, 17, 4,...   \n",
       "0          2625  94.587669  [6, 22, 20, 23, 15, 1, 0, 18, 2, 16, 11, 4, 8,...   \n",
       "0          3376  94.977411  [6, 2, 0, 14, 3, 10, 1, 18, 15, 5, 11, 19, 4, ...   \n",
       "0          4312  95.472222  [0, 6, 15, 3, 22, 11, 10, 18, 21, 20, 8, 19, 4...   \n",
       "\n",
       "                                           phenotype    fitness  is_vtr  \n",
       "0  [7, 15, 21, 20, 17, 5, 18, 25, 10, 9, 6, 16, 3...  6022805.0   False  \n",
       "0  [8, 10, 6, 17, 25, 11, 5, 1, 18, 23, 4, 21, 0,...  5841038.0   False  \n",
       "0  [19, 25, 18, 6, 5, 14, 4, 3, 7, 1, 17, 8, 0, 1...  5777598.0   False  \n",
       "0  [6, 3, 24, 23, 5, 10, 9, 4, 15, 14, 20, 12, 0,...  5718685.0   False  \n",
       "0  [7, 19, 21, 20, 0, 25, 1, 9, 16, 3, 23, 18, 13...  5713392.0   False  \n",
       "0  [17, 9, 16, 19, 18, 0, 14, 8, 21, 15, 20, 6, 7...  5703806.0   False  \n",
       "0  [18, 16, 25, 7, 9, 0, 13, 15, 1, 2, 14, 12, 4,...  5670833.0   False  \n",
       "0  [19, 9, 6, 3, 2, 23, 11, 22, 14, 8, 20, 0, 12,...  5645698.0   False  \n",
       "0  [15, 16, 25, 2, 7, 14, 1, 21, 0, 3, 13, 17, 4,...  5609391.0   False  \n",
       "0  [6, 22, 20, 23, 15, 1, 0, 18, 2, 16, 11, 4, 8,...  5594138.0   False  \n",
       "0  [6, 2, 0, 14, 3, 10, 1, 18, 15, 5, 11, 19, 4, ...  5547376.0   False  \n",
       "0  [0, 6, 15, 3, 22, 11, 10, 18, 21, 20, 8, 19, 4...  5516136.0   False  "
      ]
     },
     "execution_count": 13,
     "metadata": {},
     "output_type": "execute_result"
    }
   ],
   "source": [
    "# Changes in best solution found so far:\n",
    "problem_tracker.elitist_history"
   ]
  },
  {
   "cell_type": "code",
   "execution_count": 18,
   "metadata": {},
   "outputs": [
    {
     "data": {
      "text/plain": [
       "<AxesSubplot:xlabel='#evaluations'>"
      ]
     },
     "execution_count": 18,
     "metadata": {},
     "output_type": "execute_result"
    },
    {
     "data": {
      "image/png": "[encoded data removed]",
      "text/plain": [
       "<Figure size 432x288 with 1 Axes>"
      ]
     },
     "metadata": {
      "needs_background": "light"
     },
     "output_type": "display_data"
    }
   ],
   "source": [
    "# Convergence graph - 1 run\n",
    "problem_tracker.elitist_history.plot(x=\"#evaluations\", y=\"fitness\")"
   ]
  },
  {
   "cell_type": "code",
   "execution_count": 42,
   "metadata": {},
   "outputs": [],
   "source": [
    "# Show genotypes of population\n",
    "[s.e for s in ga.population]"
   ]
  },
  {
   "cell_type": "markdown",
   "metadata": {},
   "source": [
    "## Processing multiple runs\n",
    "An example setup & sequential experiment runner can be found in `example_experiment.py`.\n",
    "\n",
    "Plotting this data with a convergence graph directly is a bit of an issue however:"
   ]
  },
  {
   "cell_type": "code",
   "execution_count": 14,
   "metadata": {},
   "outputs": [],
   "source": [
    "data = pd.read_csv(\"example_experiment_data.csv.gz\")"
   ]
  },
  {
   "cell_type": "code",
   "execution_count": 15,
   "metadata": {},
   "outputs": [],
   "source": [
    "import seaborn as sns"
   ]
  },
  {
   "cell_type": "code",
   "execution_count": 16,
   "metadata": {},
   "outputs": [
    {
     "data": {
      "text/plain": [
       "<AxesSubplot:xlabel='#evaluations', ylabel='fitness'>"
      ]
     },
     "execution_count": 16,
     "metadata": {},
     "output_type": "execute_result"
    },
    {
     "data": {
      "image/png": "[encoded data removed]",
      "text/plain": [
       "<Figure size 432x288 with 1 Axes>"
      ]
     },
     "metadata": {
      "needs_background": "light"
     },
     "output_type": "display_data"
    }
   ],
   "source": [
    "sns.lineplot(data=data, x=\"#evaluations\", y=\"fitness\", errorbar=(\"pi\", 95))"
   ]
  },
  {
   "cell_type": "markdown",
   "metadata": {},
   "source": [
    "Looks a bit messy, doesn't it? This is due to the fact that the data states \"update at evaluation $x$\", while the plotting library aggregates at each evaluation $x$. Not all runs necessarily had an update at a given point $x$. This means we are actually interleaving runs, rather than aggregating over them. We resolve this by resampling the runs, such that each run has matching #evaluations when we aggregate."
   ]
  },
  {
   "cell_type": "code",
   "execution_count": 17,
   "metadata": {},
   "outputs": [
    {
     "data": {
      "text/html": [
       "<div>\n",
       "<style scoped>\n",
       "    .dataframe tbody tr th:only-of-type {\n",
       "        vertical-align: middle;\n",
       "    }\n",
       "\n",
       "    .dataframe tbody tr th {\n",
       "        vertical-align: top;\n",
       "    }\n",
       "\n",
       "    .dataframe thead th {\n",
       "        text-align: right;\n",
       "    }\n",
       "</style>\n",
       "<table border=\"1\" class=\"dataframe\">\n",
       "  <thead>\n",
       "    <tr style=\"text-align: right;\">\n",
       "      <th></th>\n",
       "      <th>seed</th>\n",
       "      <th>#evaluations</th>\n",
       "    </tr>\n",
       "  </thead>\n",
       "  <tbody>\n",
       "    <tr>\n",
       "      <th>0</th>\n",
       "      <td>42</td>\n",
       "      <td>1</td>\n",
       "    </tr>\n",
       "    <tr>\n",
       "      <th>1</th>\n",
       "      <td>42</td>\n",
       "      <td>2</td>\n",
       "    </tr>\n",
       "    <tr>\n",
       "      <th>2</th>\n",
       "      <td>42</td>\n",
       "      <td>3</td>\n",
       "    </tr>\n",
       "    <tr>\n",
       "      <th>3</th>\n",
       "      <td>42</td>\n",
       "      <td>4</td>\n",
       "    </tr>\n",
       "    <tr>\n",
       "      <th>4</th>\n",
       "      <td>42</td>\n",
       "      <td>5</td>\n",
       "    </tr>\n",
       "    <tr>\n",
       "      <th>...</th>\n",
       "      <td>...</td>\n",
       "      <td>...</td>\n",
       "    </tr>\n",
       "    <tr>\n",
       "      <th>3175</th>\n",
       "      <td>51</td>\n",
       "      <td>25948</td>\n",
       "    </tr>\n",
       "    <tr>\n",
       "      <th>3176</th>\n",
       "      <td>51</td>\n",
       "      <td>26415</td>\n",
       "    </tr>\n",
       "    <tr>\n",
       "      <th>3177</th>\n",
       "      <td>51</td>\n",
       "      <td>26672</td>\n",
       "    </tr>\n",
       "    <tr>\n",
       "      <th>3178</th>\n",
       "      <td>51</td>\n",
       "      <td>26953</td>\n",
       "    </tr>\n",
       "    <tr>\n",
       "      <th>3179</th>\n",
       "      <td>51</td>\n",
       "      <td>27272</td>\n",
       "    </tr>\n",
       "  </tbody>\n",
       "</table>\n",
       "<p>3180 rows × 2 columns</p>\n",
       "</div>"
      ],
      "text/plain": [
       "      seed  #evaluations\n",
       "0       42             1\n",
       "1       42             2\n",
       "2       42             3\n",
       "3       42             4\n",
       "4       42             5\n",
       "...    ...           ...\n",
       "3175    51         25948\n",
       "3176    51         26415\n",
       "3177    51         26672\n",
       "3178    51         26953\n",
       "3179    51         27272\n",
       "\n",
       "[3180 rows x 2 columns]"
      ]
     },
     "execution_count": 17,
     "metadata": {},
     "output_type": "execute_result"
    }
   ],
   "source": [
    "# First, determine the configurations\n",
    "aggregating_columns = [\"seed\"]\n",
    "unique_configurations = data.groupby(aggregating_columns).size().rename(\"x\").reset_index().drop(columns=\"x\")\n",
    "\n",
    "# Second, determine the unique #evaluations\n",
    "unique_evaluations = pd.DataFrame({'#evaluations': data[\"#evaluations\"].sort_values().unique()})\n",
    "\n",
    "# Construct a list of wanted sampling points by cross join\n",
    "# Note: order is important, as we'll fill in the missing samples by taking the previous non-missing value\n",
    "#       and this should be from the same run.\n",
    "requested_samples = pd.merge(unique_configurations, unique_evaluations, how=\"cross\")\n",
    "requested_samples"
   ]
  },
  {
   "cell_type": "code",
   "execution_count": 38,
   "metadata": {},
   "outputs": [
    {
     "data": {
      "text/html": [
       "<div>\n",
       "<style scoped>\n",
       "    .dataframe tbody tr th:only-of-type {\n",
       "        vertical-align: middle;\n",
       "    }\n",
       "\n",
       "    .dataframe tbody tr th {\n",
       "        vertical-align: top;\n",
       "    }\n",
       "\n",
       "    .dataframe thead th {\n",
       "        text-align: right;\n",
       "    }\n",
       "</style>\n",
       "<table border=\"1\" class=\"dataframe\">\n",
       "  <thead>\n",
       "    <tr style=\"text-align: right;\">\n",
       "      <th></th>\n",
       "      <th>seed</th>\n",
       "      <th>#evaluations</th>\n",
       "      <th>time (s)</th>\n",
       "      <th>genotype</th>\n",
       "      <th>phenotype</th>\n",
       "      <th>fitness</th>\n",
       "      <th>is_vtr</th>\n",
       "    </tr>\n",
       "  </thead>\n",
       "  <tbody>\n",
       "    <tr>\n",
       "      <th>0</th>\n",
       "      <td>42</td>\n",
       "      <td>1</td>\n",
       "      <td>0.001000</td>\n",
       "      <td>[ 7 15 21 20 17  5 18 25 10  9  6 16  3  0 22 ...</td>\n",
       "      <td>[ 7 15 21 20 17  5 18 25 10  9  6 16  3  0 22 ...</td>\n",
       "      <td>6022805.0</td>\n",
       "      <td>False</td>\n",
       "    </tr>\n",
       "    <tr>\n",
       "      <th>1</th>\n",
       "      <td>42</td>\n",
       "      <td>2</td>\n",
       "      <td>0.006001</td>\n",
       "      <td>[ 8 10  6 17 25 11  5  1 18 23  4 21  0  7 19 ...</td>\n",
       "      <td>[ 8 10  6 17 25 11  5  1 18 23  4 21  0  7 19 ...</td>\n",
       "      <td>5841038.0</td>\n",
       "      <td>False</td>\n",
       "    </tr>\n",
       "    <tr>\n",
       "      <th>2</th>\n",
       "      <td>42</td>\n",
       "      <td>3</td>\n",
       "      <td>0.006001</td>\n",
       "      <td>[ 8 10  6 17 25 11  5  1 18 23  4 21  0  7 19 ...</td>\n",
       "      <td>[ 8 10  6 17 25 11  5  1 18 23  4 21  0  7 19 ...</td>\n",
       "      <td>5841038.0</td>\n",
       "      <td>False</td>\n",
       "    </tr>\n",
       "    <tr>\n",
       "      <th>3</th>\n",
       "      <td>42</td>\n",
       "      <td>4</td>\n",
       "      <td>0.006001</td>\n",
       "      <td>[ 8 10  6 17 25 11  5  1 18 23  4 21  0  7 19 ...</td>\n",
       "      <td>[ 8 10  6 17 25 11  5  1 18 23  4 21  0  7 19 ...</td>\n",
       "      <td>5841038.0</td>\n",
       "      <td>False</td>\n",
       "    </tr>\n",
       "    <tr>\n",
       "      <th>4</th>\n",
       "      <td>42</td>\n",
       "      <td>5</td>\n",
       "      <td>0.006001</td>\n",
       "      <td>[ 8 10  6 17 25 11  5  1 18 23  4 21  0  7 19 ...</td>\n",
       "      <td>[ 8 10  6 17 25 11  5  1 18 23  4 21  0  7 19 ...</td>\n",
       "      <td>5841038.0</td>\n",
       "      <td>False</td>\n",
       "    </tr>\n",
       "    <tr>\n",
       "      <th>...</th>\n",
       "      <td>...</td>\n",
       "      <td>...</td>\n",
       "      <td>...</td>\n",
       "      <td>...</td>\n",
       "      <td>...</td>\n",
       "      <td>...</td>\n",
       "      <td>...</td>\n",
       "    </tr>\n",
       "    <tr>\n",
       "      <th>3175</th>\n",
       "      <td>51</td>\n",
       "      <td>25948</td>\n",
       "      <td>10.553054</td>\n",
       "      <td>[ 7 11  1 10 13  2 25 24  0  6  3 17 19 18 15 ...</td>\n",
       "      <td>[ 7 11  1 10 13  2 25 24  0  6  3 17 19 18 15 ...</td>\n",
       "      <td>5443804.0</td>\n",
       "      <td>False</td>\n",
       "    </tr>\n",
       "    <tr>\n",
       "      <th>3176</th>\n",
       "      <td>51</td>\n",
       "      <td>26415</td>\n",
       "      <td>10.553054</td>\n",
       "      <td>[ 7 11  1 10 13  2 25 24  0  6  3 17 19 18 15 ...</td>\n",
       "      <td>[ 7 11  1 10 13  2 25 24  0  6  3 17 19 18 15 ...</td>\n",
       "      <td>5443804.0</td>\n",
       "      <td>False</td>\n",
       "    </tr>\n",
       "    <tr>\n",
       "      <th>3177</th>\n",
       "      <td>51</td>\n",
       "      <td>26672</td>\n",
       "      <td>10.553054</td>\n",
       "      <td>[ 7 11  1 10 13  2 25 24  0  6  3 17 19 18 15 ...</td>\n",
       "      <td>[ 7 11  1 10 13  2 25 24  0  6  3 17 19 18 15 ...</td>\n",
       "      <td>5443804.0</td>\n",
       "      <td>False</td>\n",
       "    </tr>\n",
       "    <tr>\n",
       "      <th>3178</th>\n",
       "      <td>51</td>\n",
       "      <td>26953</td>\n",
       "      <td>11.932332</td>\n",
       "      <td>[ 7 11  1 10 13  6 25 24  0 20  3 17 19 18 22 ...</td>\n",
       "      <td>[ 7 11  1 10 13  6 25 24  0 20  3 17 19 18 22 ...</td>\n",
       "      <td>5443723.0</td>\n",
       "      <td>False</td>\n",
       "    </tr>\n",
       "    <tr>\n",
       "      <th>3179</th>\n",
       "      <td>51</td>\n",
       "      <td>27272</td>\n",
       "      <td>11.932332</td>\n",
       "      <td>[ 7 11  1 10 13  6 25 24  0 20  3 17 19 18 22 ...</td>\n",
       "      <td>[ 7 11  1 10 13  6 25 24  0 20  3 17 19 18 22 ...</td>\n",
       "      <td>5443723.0</td>\n",
       "      <td>False</td>\n",
       "    </tr>\n",
       "  </tbody>\n",
       "</table>\n",
       "<p>3180 rows × 7 columns</p>\n",
       "</div>"
      ],
      "text/plain": [
       "      seed  #evaluations   time (s)  \\\n",
       "0       42             1   0.001000   \n",
       "1       42             2   0.006001   \n",
       "2       42             3   0.006001   \n",
       "3       42             4   0.006001   \n",
       "4       42             5   0.006001   \n",
       "...    ...           ...        ...   \n",
       "3175    51         25948  10.553054   \n",
       "3176    51         26415  10.553054   \n",
       "3177    51         26672  10.553054   \n",
       "3178    51         26953  11.932332   \n",
       "3179    51         27272  11.932332   \n",
       "\n",
       "                                               genotype  \\\n",
       "0     [ 7 15 21 20 17  5 18 25 10  9  6 16  3  0 22 ...   \n",
       "1     [ 8 10  6 17 25 11  5  1 18 23  4 21  0  7 19 ...   \n",
       "2     [ 8 10  6 17 25 11  5  1 18 23  4 21  0  7 19 ...   \n",
       "3     [ 8 10  6 17 25 11  5  1 18 23  4 21  0  7 19 ...   \n",
       "4     [ 8 10  6 17 25 11  5  1 18 23  4 21  0  7 19 ...   \n",
       "...                                                 ...   \n",
       "3175  [ 7 11  1 10 13  2 25 24  0  6  3 17 19 18 15 ...   \n",
       "3176  [ 7 11  1 10 13  2 25 24  0  6  3 17 19 18 15 ...   \n",
       "3177  [ 7 11  1 10 13  2 25 24  0  6  3 17 19 18 15 ...   \n",
       "3178  [ 7 11  1 10 13  6 25 24  0 20  3 17 19 18 22 ...   \n",
       "3179  [ 7 11  1 10 13  6 25 24  0 20  3 17 19 18 22 ...   \n",
       "\n",
       "                                              phenotype    fitness  is_vtr  \n",
       "0     [ 7 15 21 20 17  5 18 25 10  9  6 16  3  0 22 ...  6022805.0   False  \n",
       "1     [ 8 10  6 17 25 11  5  1 18 23  4 21  0  7 19 ...  5841038.0   False  \n",
       "2     [ 8 10  6 17 25 11  5  1 18 23  4 21  0  7 19 ...  5841038.0   False  \n",
       "3     [ 8 10  6 17 25 11  5  1 18 23  4 21  0  7 19 ...  5841038.0   False  \n",
       "4     [ 8 10  6 17 25 11  5  1 18 23  4 21  0  7 19 ...  5841038.0   False  \n",
       "...                                                 ...        ...     ...  \n",
       "3175  [ 7 11  1 10 13  2 25 24  0  6  3 17 19 18 15 ...  5443804.0   False  \n",
       "3176  [ 7 11  1 10 13  2 25 24  0  6  3 17 19 18 15 ...  5443804.0   False  \n",
       "3177  [ 7 11  1 10 13  2 25 24  0  6  3 17 19 18 15 ...  5443804.0   False  \n",
       "3178  [ 7 11  1 10 13  6 25 24  0 20  3 17 19 18 22 ...  5443723.0   False  \n",
       "3179  [ 7 11  1 10 13  6 25 24  0 20  3 17 19 18 22 ...  5443723.0   False  \n",
       "\n",
       "[3180 rows x 7 columns]"
      ]
     },
     "execution_count": 38,
     "metadata": {},
     "output_type": "execute_result"
    }
   ],
   "source": [
    "# Resample!\n",
    "resampled_data = pd.merge(requested_samples, data, how=\"left\", on=aggregating_columns + [\"#evaluations\"]).ffill()\n",
    "resampled_data"
   ]
  },
  {
   "cell_type": "code",
   "execution_count": 39,
   "metadata": {},
   "outputs": [
    {
     "data": {
      "text/plain": [
       "<AxesSubplot:xlabel='#evaluations', ylabel='fitness'>"
      ]
     },
     "execution_count": 39,
     "metadata": {},
     "output_type": "execute_result"
    },
    {
     "data": {
      "image/png": "[encoded data removed]",
      "text/plain": [
       "<Figure size 432x288 with 1 Axes>"
      ]
     },
     "metadata": {
      "needs_background": "light"
     },
     "output_type": "display_data"
    }
   ],
   "source": [
    "# much better!\n",
    "sns.lineplot(data=resampled_data, x=\"#evaluations\", y=\"fitness\", errorbar=(\"pi\", 95))"
   ]
  },
  {
   "cell_type": "markdown",
   "metadata": {},
   "source": [
    "# Assignment\n",
    "For this assignment you will all have to write a report - in the style of a 'paper' - discussing what you have done, and how, why, etc.\n",
    "\n",
    "> <br/>\n",
    "> 💡 Keep notes of what you are doing and why, even before putting it into the report.\n",
    "> <br/><br/>\n",
    "\n",
    "Follow the structure in the main document & ensure you have your deliverables ready!"
   ]
  }
 ],
 "metadata": {
  "interpreter": {
   "hash": "e8309d3ca4136b4551a907de7485a7890edc6d5758f3534dd65b2d22192239b1"
  },
  "kernelspec": {
   "display_name": "Python 3 (ipykernel)",
   "language": "python",
   "name": "python3"
  },
  "language_info": {
   "codemirror_mode": {
    "name": "ipython",
    "version": 3
   },
   "file_extension": ".py",
   "mimetype": "text/x-python",
   "name": "python",
   "nbconvert_exporter": "python",
   "pygments_lexer": "ipython3",
   "version": "3.8.8"
  }
 },
 "nbformat": 4,
 "nbformat_minor": 2
}
