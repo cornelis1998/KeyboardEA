{
 "cells": [
  {
   "cell_type": "code",
   "execution_count": 29,
   "metadata": {},
   "outputs": [
    {
     "name": "stdout",
     "output_type": "stream",
     "text": [
      "{0: 0.6073076923076923, 1: 0.6073076923076923, 2: 0.6073076923076923, 3: 0.6146153846153846, 4: 0.6146153846153846, 5: 0.5946153846153845, 6: 0.5946153846153845, 7: 0.58, 8: 0.58, 9: 0.58, 10: 0.5426923076923077, 11: 0.5426923076923077, 12: 0.5426923076923077, 13: 0.5526923076923077, 14: 0.6053846153846154, 15: 0.5853846153846154, 16: 0.5603846153846154, 17: 0.5376923076923077, 18: 0.5376923076923077, 19: 0.6423076923076922, 20: 0.6423076923076922, 21: 0.6423076923076922, 22: 0.6442307692307692, 23: 0.6442307692307692, 24: 0.6134615384615385, 25: 0.6134615384615385}\n",
      "[0.60730769 0.60730769 0.60730769 0.61461538 0.61461538 0.59461538\n",
      " 0.59461538 0.58       0.58       0.58       0.54269231 0.54269231\n",
      " 0.54269231 0.55269231 0.60538462 0.58538462 0.56038462 0.53769231\n",
      " 0.53769231 0.64230769 0.64230769 0.64230769 0.64423077 0.64423077\n",
      " 0.61346154 0.61346154]\n",
      "[2, 24, 14, 5, 11, 0, 23, 18, 3, 4, 19, 9, 16, 22, 13, 10, 20, 8, 1, 25, 12, 21, 6, 17, 15, 7]\n",
      "[0.6073076923076923, 0.6134615384615385, 0.6053846153846154, 0.5946153846153845, 0.5426923076923077, 0.6073076923076923, 0.6442307692307692, 0.5376923076923077, 0.6146153846153846, 0.6146153846153846, 0.6423076923076922, 0.58, 0.5603846153846154, 0.6442307692307692, 0.5526923076923077, 0.5426923076923077, 0.6423076923076922, 0.58, 0.6073076923076923, 0.6134615384615385, 0.5426923076923077, 0.6423076923076922, 0.5946153846153845, 0.5376923076923077, 0.5853846153846154, 0.58]\n",
      "[False, True, True, True, False, True, False, True, False, False, True, True, False, False, True, True, True, False, True, True, True, True, True, False, False, True]\n",
      "[1, 2, 3, 5, 7, 10, 11, 14, 15, 16, 18, 19, 20, 21, 22, 25]\n"
     ]
    }
   ],
   "source": [
    "import random\n",
    "filename = ('C:\\\\Users\\\\User\\\\Documents\\\\Evolutionary_algorithms\\\\EA_tom\\\\KeyboardEA-Tom\\\\instances\\\\qap\\\\bur26a.dat')\n",
    "\n",
    "def get_specific_p(file):\n",
    "    #Read file\n",
    "    _,A,_ =read_qaplib(file)\n",
    "    # filename = ('C:\\\\Users\\\\User\\\\Documents\\\\Evolutionary_algorithms\\\\EA_tom\\\\KeyboardEA-Tom\\\\instances\\\\qap\\\\bur26a.dat')\n",
    "    \n",
    "    #Calculate the mean to see what keys have the largest pressing time on average\n",
    "    A_mean= np.mean(A, axis=0)\n",
    "    A_p = A_mean/100\n",
    "    p_library = {index: value for index, value in enumerate(A_p)}\n",
    "\n",
    "    return A_p, p_library\n",
    "\n",
    "test , test_lib = get_specific_p(filename)\n",
    "print(test_lib)\n",
    "print(test)\n",
    "\n",
    "\n",
    "copy_s0 = random.sample(range(26), 26)\n",
    "print(copy_s0)\n",
    "\n",
    "p_per_solution = [test_lib[key] for key in copy_s0]\n",
    "swap_or_not = [random.random() < p for p in p_per_solution]\n",
    "section = [index for index, value in enumerate(swap_or_not) if value]\n",
    "\n",
    "print(p_per_solution)\n",
    "print(swap_or_not)    \n",
    "print(section)\n"
   ]
  }
 ],
 "metadata": {
  "kernelspec": {
   "display_name": "Python 3",
   "language": "python",
   "name": "python3"
  },
  "language_info": {
   "codemirror_mode": {
    "name": "ipython",
    "version": 3
   },
   "file_extension": ".py",
   "mimetype": "text/x-python",
   "name": "python",
   "nbconvert_exporter": "python",
   "pygments_lexer": "ipython3",
   "version": "3.11.3"
  },
  "orig_nbformat": 4
 },
 "nbformat": 4,
 "nbformat_minor": 2
}
